{
  "nbformat": 4,
  "nbformat_minor": 0,
  "metadata": {
    "colab": {
      "private_outputs": true,
      "provenance": [],
      "authorship_tag": "ABX9TyPvW3dByfqbanNnJtndFCTQ",
      "include_colab_link": true
    },
    "kernelspec": {
      "name": "python3",
      "display_name": "Python 3"
    },
    "language_info": {
      "name": "python"
    }
  },
  "cells": [
    {
      "cell_type": "markdown",
      "metadata": {
        "id": "view-in-github",
        "colab_type": "text"
      },
      "source": [
        "<a href=\"https://colab.research.google.com/github/menna03/Housing-Project-Data-Cleaning/blob/main/housing_project_data_cleaning.ipynb\" target=\"_parent\"><img src=\"https://colab.research.google.com/assets/colab-badge.svg\" alt=\"Open In Colab\"/></a>"
      ]
    },
    {
      "cell_type": "code",
      "execution_count": null,
      "metadata": {
        "id": "oXAu8Huf8BGP"
      },
      "outputs": [],
      "source": [
        "import numpy as np\n",
        "import pandas as pd\n"
      ]
    },
    {
      "cell_type": "code",
      "source": [
        "H = pd.read_excel(r'/content/housing.xlsx')\n"
      ],
      "metadata": {
        "id": "b1hMDfbh-CTr"
      },
      "execution_count": null,
      "outputs": []
    },
    {
      "cell_type": "code",
      "source": [
        "H.head()"
      ],
      "metadata": {
        "id": "xnXwOjdMAO2w"
      },
      "execution_count": null,
      "outputs": []
    },
    {
      "cell_type": "code",
      "source": [
        "H.columns"
      ],
      "metadata": {
        "id": "DgL3skKYIrDu"
      },
      "execution_count": null,
      "outputs": []
    },
    {
      "cell_type": "code",
      "source": [
        "#x axses is the row \n",
        "#y axses is the columns\n",
        "H.shape\n"
      ],
      "metadata": {
        "id": "obCWjWMshZLq"
      },
      "execution_count": null,
      "outputs": []
    },
    {
      "cell_type": "code",
      "source": [
        "# null values in %\n",
        "H.isna().sum()* 100 / len(H)\n",
        "#total_bedrooms has most null values as 24% in null"
      ],
      "metadata": {
        "id": "qc0V09t9hZdp"
      },
      "execution_count": null,
      "outputs": []
    },
    {
      "cell_type": "code",
      "source": [
        "# null values \n",
        "H.isna().sum()"
      ],
      "metadata": {
        "id": "8GiG6P0k81BP"
      },
      "execution_count": null,
      "outputs": []
    },
    {
      "cell_type": "code",
      "source": [
        "H.describe()"
      ],
      "metadata": {
        "id": "6bi-gNnBoRSH"
      },
      "execution_count": null,
      "outputs": []
    },
    {
      "cell_type": "code",
      "source": [
        "S=H['total_rooms'].mean()\n",
        "print(\"the  average of totalRooms is\",S)\n",
        "S=H['total_bedrooms'].mean()\n",
        "print(\"the  average of totalBedrooms is\",S)"
      ],
      "metadata": {
        "id": "SVMkWTCSiUch"
      },
      "execution_count": null,
      "outputs": []
    },
    {
      "cell_type": "code",
      "source": [
        "H['ocean_proximity'].value_counts()"
      ],
      "metadata": {
        "id": "BVMATmudqCI0"
      },
      "execution_count": null,
      "outputs": []
    },
    {
      "cell_type": "code",
      "source": [
        "# What is the most frequent ocean proximity? it is  <1H OCEAN\n",
        "\n",
        "H['ocean_proximity'].mode()\n"
      ],
      "metadata": {
        "id": "zjrY9H_miv6A"
      },
      "execution_count": null,
      "outputs": []
    },
    {
      "cell_type": "code",
      "source": [
        "H.groupby('ocean_proximity').agg({'longitude': ['mean', 'median'],\n",
        "                                  'latitude':['mean', 'median'],\n",
        "                                     'housing_median_age': ['mean', 'median'],\n",
        "                                     'total_rooms': ['mean', 'median'],\n",
        "                                     'total_bedrooms': ['mean', 'median'],                                  \n",
        "                                     'population': ['mean', 'median'],                                   \n",
        "                                     'median_income': ['mean', 'median'],                        \n",
        "                                   'median_house_value': ['mean', 'median']\n",
        "                                     })"
      ],
      "metadata": {
        "id": "1c10un5BwHGE"
      },
      "execution_count": null,
      "outputs": []
    },
    {
      "cell_type": "code",
      "source": [
        "H.groupby('ocean_proximity').describe()"
      ],
      "metadata": {
        "id": "yL33grqLwldR"
      },
      "execution_count": null,
      "outputs": []
    },
    {
      "cell_type": "code",
      "source": [
        "import matplotlib.pyplot as plt # library for visualization\n",
        "import seaborn as sns # library for visualization\n",
        "sns.set() # this command sets the seaborn chart style as the default"
      ],
      "metadata": {
        "id": "htvAY8aw5i1k"
      },
      "execution_count": null,
      "outputs": []
    },
    {
      "cell_type": "code",
      "source": [
        "plt.bar(x = H[\"ocean_proximity\"],\n",
        "        height = H[\"population\"], \n",
        "        color = \"midnightblue\")\n",
        "plt.show() \n",
        "#  this grafe is inacuret as island is very low in this population and it cant relly be consderd and <1Hocean is hight so we cant say that island has the lowest population "
      ],
      "metadata": {
        "id": "j_PThHgJ5J0J"
      },
      "execution_count": null,
      "outputs": []
    },
    {
      "cell_type": "markdown",
      "source": [
        "# Assignmen2_MLWorkshop_GDSC"
      ],
      "metadata": {
        "id": "RoUmBdxTjZgu"
      }
    },
    {
      "cell_type": "code",
      "source": [
        "import matplotlib.pyplot as plt\n",
        "import seaborn as sns"
      ],
      "metadata": {
        "id": "vKVKJqOkwKzo"
      },
      "execution_count": null,
      "outputs": []
    },
    {
      "cell_type": "code",
      "source": [
        "H.head()"
      ],
      "metadata": {
        "id": "Lk1U7rHijiPw"
      },
      "execution_count": null,
      "outputs": []
    },
    {
      "cell_type": "code",
      "source": [
        "H.duplicated().sum()\n",
        "# ther are no duplicated"
      ],
      "metadata": {
        "id": "1arMcL2S6XMi"
      },
      "execution_count": null,
      "outputs": []
    },
    {
      "cell_type": "code",
      "source": [
        "H.shape"
      ],
      "metadata": {
        "id": "QaheTlbv92WT"
      },
      "execution_count": null,
      "outputs": []
    },
    {
      "cell_type": "code",
      "source": [
        "H.isnull().sum()"
      ],
      "metadata": {
        "id": "4toKh31wxN4z"
      },
      "execution_count": null,
      "outputs": []
    },
    {
      "cell_type": "code",
      "source": [
        "H=H.dropna(subset =['housing_median_age','population','households'])"
      ],
      "metadata": {
        "id": "95NNA_hO-DIn"
      },
      "execution_count": null,
      "outputs": []
    },
    {
      "cell_type": "code",
      "source": [
        "H = H.drop(labels=\"gender\", axis=1)"
      ],
      "metadata": {
        "id": "4p8abI_eHi8v"
      },
      "execution_count": null,
      "outputs": []
    },
    {
      "cell_type": "code",
      "source": [
        "H.isna().sum()* 100 / len(H)\n"
      ],
      "metadata": {
        "id": "uKZsI5-F-18l"
      },
      "execution_count": null,
      "outputs": []
    },
    {
      "cell_type": "code",
      "source": [
        "H.shape"
      ],
      "metadata": {
        "id": "N2y2HI4y_bby"
      },
      "execution_count": null,
      "outputs": []
    },
    {
      "cell_type": "markdown",
      "source": [
        "looks like we have a lot of missing data so we will drop the colums that has the lowest persent of mising data (housing_median_age,population ,households,median_income  )\n",
        "we will drop those as it is less than 15% mising data \n",
        "we will drop gender also as we dont need it "
      ],
      "metadata": {
        "id": "wCeXPrAJygoc"
      }
    },
    {
      "cell_type": "code",
      "source": [
        "sns.set_palette(\"husl\")\n",
        "sns.displot(data=H, x=\"median_income\", kind=\"kde\")"
      ],
      "metadata": {
        "id": "MCLKCn6OYni4"
      },
      "execution_count": null,
      "outputs": []
    },
    {
      "cell_type": "code",
      "source": [
        "H[\"median_income\"].fillna(H[\"median_income\"].median(), inplace=True)"
      ],
      "metadata": {
        "id": "7n0KcmN5eGi8"
      },
      "execution_count": null,
      "outputs": []
    },
    {
      "cell_type": "code",
      "source": [
        "H[\"median_income\"].isnull().sum()"
      ],
      "metadata": {
        "id": "ha9Q-NSXeTa-"
      },
      "execution_count": null,
      "outputs": []
    },
    {
      "cell_type": "code",
      "source": [
        "sns.set_palette(\"husl\")\n",
        "sns.displot(data=H, x=\"median_income\", kind=\"kde\")"
      ],
      "metadata": {
        "id": "7fV8zumLeX1j"
      },
      "execution_count": null,
      "outputs": []
    },
    {
      "cell_type": "code",
      "source": [
        "sns.set_palette(\"husl\")\n",
        "sns.displot(data=H, x=\"total_bedrooms\", kind=\"kde\")"
      ],
      "metadata": {
        "id": "b64OriVDfph9"
      },
      "execution_count": null,
      "outputs": []
    },
    {
      "cell_type": "code",
      "source": [
        "H[\"total_bedrooms\"].fillna(H[\"total_bedrooms\"].mean(), inplace=True)"
      ],
      "metadata": {
        "id": "cRVaWzDWiCxm"
      },
      "execution_count": null,
      "outputs": []
    },
    {
      "cell_type": "code",
      "source": [
        "H[\"total_bedrooms\"].isnull().sum()"
      ],
      "metadata": {
        "id": "nlziT4kQixS4"
      },
      "execution_count": null,
      "outputs": []
    },
    {
      "cell_type": "code",
      "source": [
        "sns.set_palette(\"husl\")\n",
        "sns.displot(data=H, x=\"total_bedrooms\", kind=\"kde\")"
      ],
      "metadata": {
        "id": "_AZOYML7iLAn"
      },
      "execution_count": null,
      "outputs": []
    },
    {
      "cell_type": "code",
      "source": [
        "H.isna().sum()* 100 / len(H)\n"
      ],
      "metadata": {
        "id": "O7nXsOGiiQ-C"
      },
      "execution_count": null,
      "outputs": []
    },
    {
      "cell_type": "code",
      "source": [
        "for col in H.columns:\n",
        "    if H[col].dtype != 'object':\n",
        "        bp = sns.boxplot(data = H, x = col)\n",
        "        plt.show()\n"
      ],
      "metadata": {
        "id": "4ebBFUqflQ5Q"
      },
      "execution_count": null,
      "outputs": []
    },
    {
      "cell_type": "code",
      "source": [
        "H.drop(H[H['population']>15000].index, axis = 0, inplace =True)"
      ],
      "metadata": {
        "id": "SMMtlo4ArLrx"
      },
      "execution_count": null,
      "outputs": []
    },
    {
      "cell_type": "code",
      "source": [
        "H.drop(H[H['median_income']>14].index, axis = 0, inplace =True)"
      ],
      "metadata": {
        "id": "7tC4lzmJv4oS"
      },
      "execution_count": null,
      "outputs": []
    },
    {
      "cell_type": "code",
      "source": [
        "H.drop(H[H['total_bedrooms']>4000].index, axis = 0, inplace =True)"
      ],
      "metadata": {
        "id": "5MRxPk1Cv4gJ"
      },
      "execution_count": null,
      "outputs": []
    },
    {
      "cell_type": "code",
      "source": [
        "for col in H.columns:\n",
        "    if H[col].dtype != 'object':\n",
        "        bp = sns.boxplot(data = H, x = col)\n",
        "        plt.show()\n"
      ],
      "metadata": {
        "id": "G2KUwHnMxMW-"
      },
      "execution_count": null,
      "outputs": []
    },
    {
      "cell_type": "code",
      "source": [
        "H.shape"
      ],
      "metadata": {
        "id": "6eE2Y-IWxYYG"
      },
      "execution_count": null,
      "outputs": []
    },
    {
      "cell_type": "markdown",
      "source": [
        "ther were a lot of outliers and we need to delete it so now the data is some what  dosent have so many otlers "
      ],
      "metadata": {
        "id": "eeLAjz8zxgml"
      }
    },
    {
      "cell_type": "markdown",
      "source": [],
      "metadata": {
        "id": "8YnTbx1F2jlu"
      }
    },
    {
      "cell_type": "code",
      "source": [
        "H.dtypes\n",
        "#households should be int or float"
      ],
      "metadata": {
        "id": "xZ4H306LzOdW"
      },
      "execution_count": null,
      "outputs": []
    },
    {
      "cell_type": "code",
      "source": [
        "H[\"households\"]=pd.to_numeric(H[\"households\"], errors='coerce')"
      ],
      "metadata": {
        "id": "mX7KoqaK317x"
      },
      "execution_count": null,
      "outputs": []
    },
    {
      "cell_type": "code",
      "source": [
        "H.dtypes\n"
      ],
      "metadata": {
        "id": "_IkAS52hFxy_"
      },
      "execution_count": null,
      "outputs": []
    },
    {
      "cell_type": "code",
      "source": [
        "H.shape"
      ],
      "metadata": {
        "id": "nHc7j387F817"
      },
      "execution_count": null,
      "outputs": []
    },
    {
      "cell_type": "markdown",
      "source": [
        "now the data is clean it has no  duplicated and minimum amount of outliers and all columns has the right data type"
      ],
      "metadata": {
        "id": "aOluf_-oHjzv"
      }
    }
  ]
}